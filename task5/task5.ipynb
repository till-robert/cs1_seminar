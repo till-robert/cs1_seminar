{
 "cells": [
  {
   "cell_type": "markdown",
   "metadata": {},
   "source": [
    "### 5. Exact enumeration of partition functions\n",
    "For the example of the one-dimensional Ising model with free boundary conditions determine the partition function by exact enumeration of all states. To this end write a computer program for $N = 5, 10,\\mathrm{ and }20$ spins ($2^N = 220 \\approx 106$ states) at $\\beta J = 1$ (resp. $T = J \\, / \\, k_B$). Use the simplest possible implementation (5 − 20 nested do-loops). Check the\n",
    "result for $N = 5$ ($2^5 = 32$ states) through explicit counting “by hand”. Finally compare with the analytical result of problem 1. How can the code be modified with minimal changes such that the exact result can be easily obtained for all temperatures? With another small modification one can obtain exact results for all temperatures and all magnetic fields? How? There will be another homework dealing with this problem."
   ]
  },
  {
   "cell_type": "markdown",
   "metadata": {},
   "source": [
    "`Example code for N = 5:`\n",
    "```cpp\n",
    "double Z5(){\n",
    "\tdouble Z = 0;\n",
    "\n",
    "\tfor(int s0 = 0; s0 < 2; ++s0){\n",
    "\t\tfor(int s1 = 0; s1 < 2; ++s1){\n",
    "\t\t\tfor(int s2 = 0; s2 < 2; ++s2){\n",
    "\t\t\t\tfor(int s3 = 0; s3 < 2; ++s3){\n",
    "\t\t\t\t\tfor(int s4 = 0; s4 < 2; ++s4){\n",
    "\t\t\t\t\t\tZ += exp( s0*s1 + s1*s2 + s2*s3 + s3*s4 );\n",
    "\t\t\t\t\t}\n",
    "\t\t\t\t}\n",
    "\t\t\t}\n",
    "\t\t}\n",
    "\t}\n",
    "\n",
    "\treturn Z;\n",
    "}\n",
    "```"
   ]
  },
  {
   "cell_type": "code",
   "execution_count": 1,
   "metadata": {},
   "outputs": [
    {
     "name": "stdout",
     "output_type": "stream",
     "text": [
      "Z(N =  5) = 179.286\n",
      "Z(N = 10) = 58068.2\n",
      "Z(N = 20) = 6.09286e+09\n"
     ]
    }
   ],
   "source": [
    "!./task5"
   ]
  }
 ],
 "metadata": {
  "kernelspec": {
   "display_name": "Python 3.7.3 ('base')",
   "language": "python",
   "name": "python3"
  },
  "language_info": {
   "codemirror_mode": {
    "name": "ipython",
    "version": 3
   },
   "file_extension": ".py",
   "mimetype": "text/x-python",
   "name": "python",
   "nbconvert_exporter": "python",
   "pygments_lexer": "ipython3",
   "version": "3.7.3"
  },
  "orig_nbformat": 4,
  "vscode": {
   "interpreter": {
    "hash": "8a819953cd20905adcd6ad66dc547da6cf5d6c80766535289a623630f45d42c4"
   }
  }
 },
 "nbformat": 4,
 "nbformat_minor": 2
}
