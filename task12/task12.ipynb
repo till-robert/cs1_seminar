{
 "cells": [
  {
   "cell_type": "markdown",
   "metadata": {},
   "source": [
    "### 12. Monte Carlo simulations of the 1D Ising model\n",
    "Write a Monte Carlo computer program for the simulation of the 1D\n",
    "Ising model with $N = 20, 100, 1000,$ and $10000$ spins and free boundary\n",
    "conditions. Use for the spin updates the Metropolis algorithm. Determine the mean energy, specific heat, magnetisation, and susceptibility for different temperatures in the inverse temperature range\n",
    "$\\beta = J \\,/\\, (k_B T ) = 0, ... , 2.$ Check your results by comparison with the\n",
    "analytical results for the mean energy and specific heat of problem 1\n",
    "respectively for $N = 20$ spins and all quantities by means of the exact\n",
    "enumerations of problems 3 and 7."
   ]
  },
  {
   "cell_type": "markdown",
   "metadata": {},
   "source": []
  }
 ],
 "metadata": {
  "language_info": {
   "name": "python"
  },
  "orig_nbformat": 4
 },
 "nbformat": 4,
 "nbformat_minor": 2
}
