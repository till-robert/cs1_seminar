{
 "cells": [
  {
   "cell_type": "markdown",
   "metadata": {},
   "source": [
    "### 11. One-dimensional discrete random walks\n",
    "Write a computer program to generate one-dimensional random walks.\n",
    "The probability for a unit step to the right (left) is $p$ ($q = 1 − p$). The\n",
    "number of steps to the right (left) is denoted by $N_R$ ($N_L$) and the total\n",
    "number of steps by $N = N_R + N_L$ . Starting the random walk at $x = 0$,\n",
    "the final position of the “drunken walker” is hence at $x = N_R − N_L$.\n",
    "\n",
    "**a)** Plot 20 random walks with up to $N = 100$ steps. Compare the\n",
    "outcome visually after $10,$ $20,$ and $100$ steps.\n",
    "\n",
    "**b)** Check for $N = 10$ and $20$ with $p = 0.5$ and $0.7$ that $N_R$ is distributed according to the binomial distribution. To this end, in\n",
    "each case about 100 000 random walks should be generated (which\n",
    "takes on modern PCs only a few seconds computing time).\n",
    "\n",
    "**c)** Determine the distribution $P(x)$ of the positions $x$ after $N$ steps\n",
    "and compare with a (properly normalized) Gaussian approximation $G(x)$. Generate again about $100\\,000$ random walks. Besides\n",
    "a direct comparison it is useful to also plot the ratio $P(x) \\, / \\, G(x)$.\n",
    "Vary $N = 10, 20,$ and $100,$ and $p = 0.3, 0.5, 0.7,$ and 0.9$.\n",
    "\n",
    "**d)** “Play” with your computer program and think about your own\n",
    "research questions concerning random walks ..."
   ]
  },
  {
   "cell_type": "markdown",
   "metadata": {},
   "source": []
  }
 ],
 "metadata": {
  "kernelspec": {
   "display_name": "Python 3.8.10 64-bit",
   "language": "python",
   "name": "python3"
  },
  "language_info": {
   "name": "python",
   "version": "3.8.10"
  },
  "orig_nbformat": 4,
  "vscode": {
   "interpreter": {
    "hash": "31f2aee4e71d21fbe5cf8b01ff0e069b9275f58929596ceb00d14d90e3e16cd6"
   }
  }
 },
 "nbformat": 4,
 "nbformat_minor": 2
}
