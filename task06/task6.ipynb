{
 "cells": [
  {
   "cell_type": "markdown",
   "metadata": {},
   "source": [
    "### 6. Simple sampling: Area of circle and ellipse\n",
    "Use a standard generator to draw $N = 10^4$ pairs of (pseudo) random\n",
    "numbers $(X, Y )$ that are equally distributed in the interval $X, Y \\in\n",
    "[−1, 1)$.\n",
    "\n",
    "**a)** Estimate the area of a circle with radius $r = 1$ that is centred\n",
    "at $(0, 0)$ by counting how often the coordinates of the random number pairs fall into the cirle (*simple sampling*). How large is\n",
    "the efficiency (hits/trials)?"
   ]
  },
  {
   "cell_type": "markdown",
   "metadata": {},
   "source": [
    "```cpp\n",
    "#include <iostream>\n",
    "#include <random>\n",
    "\n",
    "std::mt19937_64 rng(54321);\n",
    "std::uniform_real_distribution<double>rnd(-1, 1);\n",
    "int N = 1e4;\n",
    "\n",
    "int main(int argc, char* arcv[]){\n",
    "    int hits = 0;\n",
    "    for(int i = 0; i < N; ++i){\n",
    "        double x = rnd(rng);\n",
    "        double y = rnd(rng);\n",
    "        if(x*x + y*y < 1){\n",
    "            hits++;\n",
    "        }\n",
    "    }\n",
    "\n",
    "    std::cout << \"hits / trials * 4 = \" << (double)hits / N * 4 << std::endl;\n",
    "}\n",
    "```"
   ]
  },
  {
   "cell_type": "code",
   "execution_count": 1,
   "metadata": {},
   "outputs": [
    {
     "name": "stdout",
     "output_type": "stream",
     "text": [
      "hits / trials = 0.792\n"
     ]
    }
   ],
   "source": [
    "!./task6_circle"
   ]
  },
  {
   "cell_type": "markdown",
   "metadata": {},
   "source": [
    "**b)** Determine for an ellipse, with one principal (half) axis $a = 1$, first\n",
    "analytically how long the second principal (half) axis b should\n",
    "be at least so that the efficiency of the simple-sampling method\n",
    "in a) is not smaller than $0.5$. Check this analytical prediction\n",
    "numerically by means of the simple-sampling procedure."
   ]
  },
  {
   "cell_type": "markdown",
   "metadata": {},
   "source": [
    "```\n",
    "    A_el / A_sq = 0.5\n",
    "=>  πab  / 4a²  = 0.5       | a = 1\n",
    "=>          πb  = 2\n",
    "=>           b  = 2 / π\n",
    "\n",
    "```"
   ]
  },
  {
   "cell_type": "markdown",
   "metadata": {},
   "source": [
    "```cpp\n",
    "#include <iostream>\n",
    "#include <random>\n",
    "\n",
    "std::mt19937_64 rng(54321);\n",
    "std::uniform_real_distribution<double>rnd(-1, 1);\n",
    "int N = 1e4;\n",
    "double a = 1.0;\n",
    "double b = 2 / M_PI;\n",
    "\n",
    "int main(int argc, char* arcv[]){\n",
    "    int hits = 0;\n",
    "    for(int i = 0; i < N; ++i){\n",
    "        double x = rnd(rng);\n",
    "        double y = rnd(rng);\n",
    "        if(x*x/(a*a) + y*y/(b*b) < 1){\n",
    "            hits++;\n",
    "        }\n",
    "    }\n",
    "\n",
    "    std::cout << \"hits / trials = \" << (double)hits / N << std::endl;\n",
    "}\n",
    "```"
   ]
  },
  {
   "cell_type": "code",
   "execution_count": 2,
   "metadata": {},
   "outputs": [
    {
     "name": "stdout",
     "output_type": "stream",
     "text": [
      "hits / trials = 0.5085\n"
     ]
    }
   ],
   "source": [
    "!./task6_ellipse"
   ]
  }
 ],
 "metadata": {
  "kernelspec": {
   "display_name": "Python 3.8.10 64-bit",
   "language": "python",
   "name": "python3"
  },
  "language_info": {
   "codemirror_mode": {
    "name": "ipython",
    "version": 3
   },
   "file_extension": ".py",
   "mimetype": "text/x-python",
   "name": "python",
   "nbconvert_exporter": "python",
   "pygments_lexer": "ipython3",
   "version": "3.8.10"
  },
  "orig_nbformat": 4,
  "vscode": {
   "interpreter": {
    "hash": "31f2aee4e71d21fbe5cf8b01ff0e069b9275f58929596ceb00d14d90e3e16cd6"
   }
  }
 },
 "nbformat": 4,
 "nbformat_minor": 2
}
