{
 "cells": [
  {
   "attachments": {},
   "cell_type": "markdown",
   "metadata": {},
   "source": [
    "<div style=\"text-align: right;font-weight:bold;font-size:large\">Till Pfaff<br>3789265</div>\n",
    "\n",
    "Full code available at https://github.com/till-robert/cs1_seminar/tree/main/task15\n",
    "\n",
    "### 15. Relaxation time of the magnetization of the 1D Ising model\n",
    "Study the relaxation time of the magnetization of the 1D Ising model\n",
    "for the Glauber update algorithm. To this end use your computer code\n",
    "of problem 13 for *periodic* boundary consitions and start a chain of\n",
    "$L = 100$ spins in an initial configuration where all spins are pointing\n",
    "up ($s_i = +1, i = 1, ..., L$). Determine after each of the first $200$ sweeps\n",
    "(that is after $L$ randomly chosen spin-flip proposals) the magnetization\n",
    "per spin, $m = (1/L) \\sum^L_{i=1} s_i\\,.$ Since this curve still shows strong fluctuations, average the whole experiment over $10\\,000$ replicas (using different\n",
    "random numbers). This curve should show an exponentially decaying\n",
    "behavior, $m(t) = m(0) \\, e^{−t/τ_{\\mathrm{relax}}}\\,,$ from which the relation time $τ_{\\mathrm{relax}}$ can\n",
    "be read off, that depends on the chosen simulation temperature."
   ]
  },
  {
   "attachments": {},
   "cell_type": "markdown",
   "metadata": {},
   "source": [
    "**a)** Run the simulation at any rate for the case $k_B T \\, / \\, J = 1$ and consider also the chain lengths $L = 50, 20, 10,$ and $2.$ Determine for\n",
    "each case $τ_{\\mathrm{relax}}$ through a linear fit."
   ]
  },
  {
   "attachments": {},
   "cell_type": "markdown",
   "metadata": {},
   "source": [
    "**b)** “Play” with the temperature in approximately the range $2/3 \\leq k_B T \\, / \\, J \\leq 2.$\n"
   ]
  },
  {
   "attachments": {},
   "cell_type": "markdown",
   "metadata": {},
   "source": [
    "**c)** The whole prodecure can be repeated quite easily with the Metropolis update algorithm.\n"
   ]
  },
  {
   "cell_type": "markdown",
   "metadata": {},
   "source": [
    "**d)** In principle one could determine along similar lines the relaxation\n",
    "time of the energy (which, in contrast to the magnetization, does\n",
    "not approach zero but a finite equilibrium value discussed in problem 3).\n"
   ]
  },
  {
   "cell_type": "markdown",
   "metadata": {},
   "source": [
    "**e)** For more details see the original paper by:\n",
    "R. J. Glauber, *Time-Dependent Statistics of the Ising Model*,\n",
    "J. Math. Phys. 4 (1963) 294–307."
   ]
  }
 ],
 "metadata": {
  "kernelspec": {
   "display_name": "Python 3",
   "language": "python",
   "name": "python3"
  },
  "language_info": {
   "name": "python",
   "version": "3.8.10 (default, Nov 14 2022, 12:59:47) \n[GCC 9.4.0]"
  },
  "orig_nbformat": 4,
  "vscode": {
   "interpreter": {
    "hash": "31f2aee4e71d21fbe5cf8b01ff0e069b9275f58929596ceb00d14d90e3e16cd6"
   }
  }
 },
 "nbformat": 4,
 "nbformat_minor": 2
}
