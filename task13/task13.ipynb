{
 "cells": [
  {
   "attachments": {},
   "cell_type": "markdown",
   "metadata": {},
   "source": [
    "<div style=\"text-align: right;font-weight:bold;font-size:large\">Till Pfaff<br>3789265</div>\n",
    "\n",
    "\n",
    "### 13. Monte Carlo simulations of the 1D Ising model with periodic boundary conditions and Glauber update\n",
    "\n",
    "Modify your Monte Carlo computer program of problem 12 for the\n",
    "simulation of the 1D Ising model with\n",
    "\n",
    "    a) periodic boundary conditions and\n",
    "    b) the Glauber update algorithm.\n",
    "\n",
    "Determine as in problem 12 the mean energy, specific heat, magnetisation, and susceptibility for $N = 20, 100, 1000,$ and $10000$ spins and\n",
    "different temperatures in the inverse temperature range $\\beta = J\\,/\\,(k_B T ) = 0, ..., 2.$ Check your simulations by comparison with the numerical results of problem 12 and the exact expressions for the mean energy and\n",
    "specific heat."
   ]
  }
 ],
 "metadata": {
  "kernelspec": {
   "display_name": "Python 3.8.10 64-bit",
   "language": "python",
   "name": "python3"
  },
  "language_info": {
   "name": "python",
   "version": "3.8.10 (default, Nov 14 2022, 12:59:47) \n[GCC 9.4.0]"
  },
  "orig_nbformat": 4,
  "vscode": {
   "interpreter": {
    "hash": "31f2aee4e71d21fbe5cf8b01ff0e069b9275f58929596ceb00d14d90e3e16cd6"
   }
  }
 },
 "nbformat": 4,
 "nbformat_minor": 2
}
