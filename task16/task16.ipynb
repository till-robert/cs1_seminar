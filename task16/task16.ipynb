{
 "cells": [
  {
   "attachments": {},
   "cell_type": "markdown",
   "metadata": {},
   "source": [
    "Full code available at https://github.com/till-robert/cs1_seminar/tree/main/task16\n",
    "\n",
    "\n",
    "### 16. Heat-bath update for the 2D Potts model\n",
    "Generalize your simulation program for the 2D Ising model of problem\n",
    "13 (square lattice, periodic boundary conditions) to the $q$-state Potts\n",
    "model which is defined by\n",
    "$$\n",
    "H = −J \\sum_{ \\langle ij \\rangle} δ_{σ_i ,σ_j} \\,,\n",
    "$$\n",
    "where $σ_i = 1, ..., q$ and $δ_{σ_i, σ_j}$\n",
    "is the Kronecker delta symbol.\n",
    "Employ for the spin updates the heat-bath algorithm and study the\n",
    "model for $q = 8$ on a small $10 \\times 10$ lattice as a function of the inverse\n",
    "temperature $β = J \\, / \\, k_B T$"
   ]
  },
  {
   "attachments": {},
   "cell_type": "markdown",
   "metadata": {},
   "source": [
    " "
   ]
  }
 ],
 "metadata": {
  "kernelspec": {
   "display_name": "Python 3",
   "language": "python",
   "name": "python3"
  },
  "language_info": {
   "name": "python",
   "version": "3.8.10 (default, Nov 14 2022, 12:59:47) \n[GCC 9.4.0]"
  },
  "orig_nbformat": 4,
  "vscode": {
   "interpreter": {
    "hash": "31f2aee4e71d21fbe5cf8b01ff0e069b9275f58929596ceb00d14d90e3e16cd6"
   }
  }
 },
 "nbformat": 4,
 "nbformat_minor": 2
}
